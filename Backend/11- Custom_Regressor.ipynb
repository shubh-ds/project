{
 "cells": [
  {
   "cell_type": "code",
   "execution_count": 13,
   "id": "ad5f154f",
   "metadata": {},
   "outputs": [],
   "source": [
    "# Import Libraries\n",
    "import pandas as pd\n",
    "import numpy as np\n",
    "from sklearn.pipeline import Pipeline\n",
    "from mlxtend.regressor import StackingCVRegressor\n",
    "from sklearn.metrics import mean_absolute_error, r2_score\n",
    "import sklearn, mlxtend\n",
    "import joblib\n",
    "\n",
    "# Import the models for ensemble\n",
    "from sklearn.ensemble import RandomForestRegressor\n",
    "from catboost import CatBoostRegressor\n",
    "from lightgbm import LGBMRegressor\n",
    "from sklearn.linear_model import Ridge, RidgeCV"
   ]
  },
  {
   "cell_type": "code",
   "execution_count": null,
   "id": "04e867a9",
   "metadata": {},
   "outputs": [],
   "source": [
    "# Load Your Data and Preprocessor\n",
    "\n",
    "X_train = pd.read_csv('Output Files/Price Prediction model files/X_train_for_CatBoost.csv')\n",
    "X_test = pd.read_csv('Output Files/Price Prediction model files/X_test_for_CatBoost.csv')\n",
    "y_train_log = pd.read_csv('Output Files/Price Prediction model files/y_train_for_CatBoost.csv').squeeze()\n",
    "y_test_log = pd.read_csv('Output Files/Price Prediction model files/y_test_for_CatBoost.csv').squeeze()\n",
    "\n",
    "# CatBoost Model pipeline\n",
    "model_pipeline = joblib.load('Output Files\\\\Price Prediction model files\\\\predict_price_model_catBoost.joblib')\n",
    "\n",
    "# Extract the pre-processing part of the pipeline\n",
    "preprocessor = model_pipeline.named_steps['preprocessor']"
   ]
  },
  {
   "cell_type": "markdown",
   "id": "085b63bd",
   "metadata": {},
   "source": [
    "##### Define Ensemble Architecture"
   ]
  },
  {
   "cell_type": "code",
   "execution_count": 15,
   "id": "56c9adcc",
   "metadata": {},
   "outputs": [],
   "source": [
    "# Level 0: Base Models (\"The Specialists\")\n",
    "rf_reg = RandomForestRegressor(n_estimators=200, random_state=42, n_jobs=-1)\n",
    "catboost_reg = CatBoostRegressor(random_state=42, verbose=0)\n",
    "lgbm_reg = LGBMRegressor(random_state=42)\n",
    "ridge_reg = Ridge(alpha=1.0) # A simple linear model\n",
    "\n",
    "# Level 1: Meta-Model (\"The Manager\")\n",
    "meta_model = RidgeCV()  # RidgeCV because it tunes its own regularization strength\n",
    "\n",
    "# Build the StackingCVRegressor. This is the core of our custom model.\n",
    "# It uses cross-validation to train the meta-model, which prevents data leakage.\n",
    "stack = StackingCVRegressor(\n",
    "    regressors=[rf_reg, catboost_reg, lgbm_reg, ridge_reg],\n",
    "    meta_regressor=meta_model,\n",
    "    cv=5,  # 5-fold cross-validation for training the meta-model\n",
    "    use_features_in_secondary=False, # Meta-model only sees predictions of base models\n",
    "    store_train_meta_features=True,\n",
    "    n_jobs=-1,\n",
    "    verbose=1\n",
    ")"
   ]
  },
  {
   "cell_type": "code",
   "execution_count": 16,
   "id": "5db5593e",
   "metadata": {},
   "outputs": [],
   "source": [
    "# Create the Final End-to-End Pipeline. This pipeline ensures that the same preprocessing is applied before the ensemble runs.\n",
    "ensemble_pipeline = Pipeline([\n",
    "    ('preprocessor', preprocessor),\n",
    "    ('stacking_regressor', stack)\n",
    "])"
   ]
  },
  {
   "cell_type": "code",
   "execution_count": 21,
   "id": "8101a3c4",
   "metadata": {},
   "outputs": [
    {
     "name": "stderr",
     "output_type": "stream",
     "text": [
      "[Parallel(n_jobs=-1)]: Using backend LokyBackend with 8 concurrent workers.\n",
      "[Parallel(n_jobs=-1)]: Done   2 out of   5 | elapsed:   15.5s remaining:   23.3s\n",
      "[Parallel(n_jobs=-1)]: Done   5 out of   5 | elapsed:   16.0s finished\n",
      "[Parallel(n_jobs=-1)]: Using backend LokyBackend with 8 concurrent workers.\n",
      "[Parallel(n_jobs=-1)]: Done   2 out of   5 | elapsed:   21.4s remaining:   32.2s\n",
      "[Parallel(n_jobs=-1)]: Done   5 out of   5 | elapsed:   21.4s finished\n",
      "[Parallel(n_jobs=-1)]: Using backend LokyBackend with 8 concurrent workers.\n",
      "[Parallel(n_jobs=-1)]: Done   2 out of   5 | elapsed:    0.7s remaining:    1.1s\n",
      "[Parallel(n_jobs=-1)]: Done   5 out of   5 | elapsed:    0.7s finished\n",
      "[Parallel(n_jobs=-1)]: Using backend LokyBackend with 8 concurrent workers.\n",
      "[Parallel(n_jobs=-1)]: Done   2 out of   5 | elapsed:    0.0s remaining:    0.0s\n",
      "[Parallel(n_jobs=-1)]: Done   5 out of   5 | elapsed:    0.0s finished\n"
     ]
    },
    {
     "name": "stdout",
     "output_type": "stream",
     "text": [
      "[LightGBM] [Info] Auto-choosing col-wise multi-threading, the overhead of testing was 0.002061 seconds.\n",
      "You can set `force_col_wise=true` to remove the overhead.\n",
      "[LightGBM] [Info] Total Bins 2845\n",
      "[LightGBM] [Info] Number of data points in the train set: 5024, number of used features: 52\n",
      "[LightGBM] [Info] Start training from score 1.029228\n",
      "---------------------------------\n",
      "\n",
      "Custom Ensemble Performance\n",
      "Mean Absolute Error (MAE): 0.3966 Crores\n",
      "R² Score: 0.9307\n",
      "---------------------------------\n",
      "Previous Best MAE (CatBoost): 0.4100 Crores\n",
      "Mean Absolute Error shows an improvement of 0.013 Crores equivalent to 1.34 Lakhs which is a meaningful amount in a real estate transaction i.e an improvement of 3.26%\n"
     ]
    }
   ],
   "source": [
    "# Train and Evaluate the Custom Ensemble\n",
    "ensemble_pipeline.fit(X_train, y_train_log)\n",
    "\n",
    "# Predict on test set\n",
    "y_pred_log = ensemble_pipeline.predict(X_test)\n",
    "\n",
    "# Inverse transform the predictions and true values to get the actual prices\n",
    "y_pred = np.exp(y_pred_log)\n",
    "y_test = np.exp(y_test_log)\n",
    "\n",
    "# Calculate the final metrics\n",
    "mae = mean_absolute_error(y_test, y_pred)\n",
    "r2 = r2_score(y_test, y_pred)\n",
    "\n",
    "print('---------------------------------')\n",
    "print(\"\\nCustom Ensemble Performance\")\n",
    "print(f\"Mean Absolute Error (MAE): {mae:.4f} Crores\")\n",
    "print(f\"R² Score: {r2:.4f}\")\n",
    "print(\"---------------------------------\")\n",
    "\n",
    "# Compare with the previous best\n",
    "catboost_mae = 0.41\n",
    "print(f\"Previous Best MAE (CatBoost): {catboost_mae:.4f} Crores\")\n",
    "improvement = (catboost_mae - mae) / catboost_mae * 100\n",
    "if mae < catboost_mae:\n",
    "    print(f\"Mean Absolute Error shows an improvement of {round(catboost_mae - mae, 3)} Crores equivalent to {round((catboost_mae - mae) * 100, 2)} Lakhs which is a meaningful amount in a real estate transaction i.e an improvement of {improvement:.2f}%\")\n",
    "else:\n",
    "    print(\"The ensemble did not outperform the CatBoost model.\")"
   ]
  },
  {
   "cell_type": "code",
   "execution_count": null,
   "id": "2453cc2c",
   "metadata": {},
   "outputs": [
    {
     "data": {
      "text/plain": [
       "['Output Files/Price Prediction model files/custom_ensemble_price_predict_model.joblib']"
      ]
     },
     "execution_count": 22,
     "metadata": {},
     "output_type": "execute_result"
    }
   ],
   "source": [
    "# Save the entire custom ensemble pipeline to a file\n",
    "joblib.dump(ensemble_pipeline, 'Output Files/Price Prediction model files/custom_ensemble_price_predict_model.joblib')"
   ]
  },
  {
   "cell_type": "code",
   "execution_count": null,
   "id": "d2d3757e",
   "metadata": {},
   "outputs": [],
   "source": []
  }
 ],
 "metadata": {
  "kernelspec": {
   "display_name": "Python_3_12_dissertation",
   "language": "python",
   "name": "python_3_12_dissertation"
  },
  "language_info": {
   "codemirror_mode": {
    "name": "ipython",
    "version": 3
   },
   "file_extension": ".py",
   "mimetype": "text/x-python",
   "name": "python",
   "nbconvert_exporter": "python",
   "pygments_lexer": "ipython3",
   "version": "3.12.0"
  }
 },
 "nbformat": 4,
 "nbformat_minor": 5
}
